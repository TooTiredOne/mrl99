{
  "nbformat": 4,
  "nbformat_minor": 0,
  "metadata": {
    "colab": {
      "name": "MRL99",
      "provenance": [],
      "collapsed_sections": []
    },
    "kernelspec": {
      "name": "python3",
      "display_name": "Python 3"
    },
    "language_info": {
      "name": "python"
    }
  },
  "cells": [
    {
      "cell_type": "markdown",
      "source": [
        "# MRL99 implementation\n",
        "\n",
        "by Kamil Kamaliev DS-02"
      ],
      "metadata": {
        "id": "NPMhLopMgdXb"
      }
    },
    {
      "cell_type": "markdown",
      "source": [
        "## Libraries"
      ],
      "metadata": {
        "id": "wd3oCao7go3O"
      }
    },
    {
      "cell_type": "code",
      "source": [
        "import random\n",
        "import math\n",
        "import numpy as np\n",
        "from time import time\n",
        "from matplotlib import pyplot as plt\n",
        "import sys\n",
        "\n",
        "BIGGER_THAN_INF = 1e13\n",
        "PLUS_INF = 1e10\n",
        "MINUS_INF = -1e10"
      ],
      "metadata": {
        "id": "aWXpMsimgPml"
      },
      "execution_count": 120,
      "outputs": []
    },
    {
      "cell_type": "markdown",
      "source": [
        "## MRL99"
      ],
      "metadata": {
        "id": "jBSS0Y7QgtPP"
      }
    },
    {
      "cell_type": "code",
      "source": [
        "class ReadingEmptyStreamException(Exception):\n",
        "    def __init__(self, message=\"Trying to read from empty stream\"):\n",
        "        super().__init__(message)\n",
        "\n",
        "\n",
        "class Stream:\n",
        "    def __init__(self, number_of_elements, arr=None):\n",
        "        if arr is not None:\n",
        "            assert number_of_elements == len(arr)\n",
        "            np.random.shuffle(arr)\n",
        "        self.number_of_elements = number_of_elements\n",
        "        self.is_empty = False\n",
        "        self.arr = arr\n",
        "\n",
        "    def next_item(self):\n",
        "        if self.is_empty:\n",
        "            raise ReadingEmptyStreamException()\n",
        "\n",
        "        if self.number_of_elements > 0:\n",
        "            self.number_of_elements -= 1\n",
        "        if self.number_of_elements == 0:\n",
        "            self.is_empty = True\n",
        "\n",
        "        item = self.arr[self.number_of_elements] if self.arr is not None else random.random()\n",
        "\n",
        "        return item\n",
        "\n",
        "\n",
        "class Buffer:\n",
        "    def __init__(self, arr, size, weight, height):\n",
        "        self.arr = arr\n",
        "        self.size = size\n",
        "        self.weight = weight\n",
        "        self.height = height\n",
        "\n",
        "    def clean(self):\n",
        "        self.arr = []\n",
        "        self.height = -1\n",
        "        self.weight = -1\n",
        "\n",
        "    def __repr__(self):\n",
        "        return \"(arr: \" + str(self.arr) + \", weight:\" + str(self.weight) + \", height: \" + str(self.height) + \")\"\n",
        "\n",
        "\n",
        "def read_stream(stream, number_of_elements):\n",
        "    buf = []\n",
        "\n",
        "    for _ in range(number_of_elements):\n",
        "        if not stream.is_empty:\n",
        "            buf.append(stream.next_item())\n",
        "        else:\n",
        "            break\n",
        "\n",
        "    return buf\n",
        "\n",
        "\n",
        "def fill_infs(buffer, required_size):\n",
        "    c = 0\n",
        "    while len(buffer) < required_size:\n",
        "        element = PLUS_INF if c % 2 == 0 else MINUS_INF\n",
        "        c += 1\n",
        "        buffer.append(element)\n",
        "\n",
        "    return buffer\n",
        "\n",
        "\n",
        "def get_filled_buffer_k(stream, buffer_size, r):\n",
        "    buffer_k = []\n",
        "    for _ in range(buffer_size):\n",
        "        chunk_r = read_stream(stream, r)\n",
        "        if len(chunk_r) > 0:\n",
        "            buffer_k.append(random.choice(chunk_r))\n",
        "        else:\n",
        "            break\n",
        "\n",
        "    fill_infs(buffer_k, buffer_size)\n",
        "    buffer_k.sort()\n",
        "    return buffer_k\n",
        "\n",
        "\n",
        "def create_buffers(b, k):\n",
        "    buffers = []\n",
        "    for _ in range(b):\n",
        "        buffers.append(Buffer([], k, -1, -1))\n",
        "\n",
        "    return buffers\n",
        "\n",
        "\n",
        "def fill_empty_buffers(stream, buffers, r):\n",
        "    counter = 0\n",
        "    min_height = BIGGER_THAN_INF\n",
        "    for buf in buffers:\n",
        "        if len(buf.arr) == 0:\n",
        "            counter += 1\n",
        "        elif buf.height < min_height:\n",
        "            min_height = buf.height\n",
        "\n",
        "    new_height = 0 if counter > 1 else min_height\n",
        "\n",
        "    if counter > 0:\n",
        "        for buf in buffers:\n",
        "            if len(buf.arr) == 0:\n",
        "                if not stream.is_empty:\n",
        "                    buf.arr = get_filled_buffer_k(stream, buf.size, r)\n",
        "                    buf.weight = 1\n",
        "                    buf.height = new_height\n",
        "                else:\n",
        "                    break\n",
        "\n",
        "    return buffers\n",
        "\n",
        "\n",
        "def pop_min(to_collapse):\n",
        "    min_index = -1\n",
        "    min_element = BIGGER_THAN_INF\n",
        "    weight = -1\n",
        "\n",
        "    for i, buf in enumerate(to_collapse):\n",
        "        if len(buf.arr) > 0:\n",
        "            if min_element > buf.arr[0]:\n",
        "                min_index = i\n",
        "                min_element = buf.arr[0]\n",
        "                weight = buf.weight\n",
        "\n",
        "    to_collapse[min_index].arr.pop(0)\n",
        "\n",
        "    return min_element, weight\n",
        "\n",
        "\n",
        "def collapse_buffers(buffers, k, r, h):\n",
        "    min_height = BIGGER_THAN_INF\n",
        "    for buf in buffers:\n",
        "        if buf.height < min_height and buf.height != -1:\n",
        "            min_height = buf.height\n",
        "\n",
        "    to_collapse = []\n",
        "    len_sum = 0\n",
        "    new_weight = 0\n",
        "    for buf in buffers:\n",
        "        if buf.height == min_height and len(buf.arr) > 0:\n",
        "            to_collapse.append(buf)\n",
        "            new_weight += buf.weight\n",
        "            len_sum += len(buf.arr)\n",
        "\n",
        "    offset = (new_weight + (new_weight % 2)) // 2\n",
        "\n",
        "    if len(to_collapse) < 2:\n",
        "        return h, r\n",
        "\n",
        "    new_arr = []\n",
        "    j = 0\n",
        "    counter = 0\n",
        "    while j < k:\n",
        "        element, weight = pop_min(to_collapse)\n",
        "\n",
        "        if counter >= new_weight * j + offset:\n",
        "            new_arr.append(element)\n",
        "            j += 1\n",
        "            weight -= 1\n",
        "\n",
        "        for _ in range(weight):\n",
        "            if j == k:\n",
        "                break\n",
        "            counter += 1\n",
        "            if counter >= new_weight * j + offset:\n",
        "                new_arr.append(element)\n",
        "                j += 1\n",
        "\n",
        "        if len(new_arr) == k:\n",
        "            break\n",
        "\n",
        "    for buf in to_collapse:\n",
        "        buf.clean()\n",
        "\n",
        "    to_collapse[0].arr = new_arr\n",
        "    to_collapse[0].weight = new_weight\n",
        "    to_collapse[0].height = min_height + 1\n",
        "\n",
        "    if min_height + 1 == h:\n",
        "        return h + 1, r * 2\n",
        "    else:\n",
        "        return h, r\n",
        "\n",
        "\n",
        "def get_quantile(buffers, q, k):\n",
        "    sum_weights = 0\n",
        "    for buf in buffers:\n",
        "        if len(buf.arr) > 0:\n",
        "            sum_weights += buf.weight\n",
        "\n",
        "    counter = 0\n",
        "    index = math.ceil(q * sum_weights * k)\n",
        "\n",
        "    while True:\n",
        "        element, weight = pop_min(buffers)\n",
        "\n",
        "        if counter + weight >= index:\n",
        "            return element\n",
        "\n",
        "        counter += weight\n",
        "\n",
        "def calc_size(buffers):\n",
        "  total_size = 0\n",
        "  for buf in buffers:\n",
        "    total_size += sys.getsizeof(buf.arr)\n",
        "  \n",
        "  return total_size\n",
        "\n",
        "def mrl99(stream, q, b, k, r, h, track_memory=False):\n",
        "    buffers = create_buffers(b, k)\n",
        "    max_memory_used = 0\n",
        "    while True:\n",
        "        if not stream.is_empty:\n",
        "            fill_empty_buffers(stream, buffers, r)\n",
        "            if track_memory:\n",
        "              memory_used = calc_size(buffers)\n",
        "              if memory_used > max_memory_used:\n",
        "                max_memory_used = memory_used\n",
        "\n",
        "            r, h = collapse_buffers(buffers, k, r, h)\n",
        "        else:\n",
        "            break\n",
        "\n",
        "    return get_quantile(buffers, q, k), max_memory_used"
      ],
      "metadata": {
        "id": "v8zzRVYsgQFN"
      },
      "execution_count": 121,
      "outputs": []
    },
    {
      "cell_type": "markdown",
      "source": [
        "## Testing\n",
        "\n",
        "Comparing to numpy"
      ],
      "metadata": {
        "id": "U4yYSF4bg7dp"
      }
    },
    {
      "cell_type": "code",
      "source": [
        "b = 5\n",
        "k = 150\n",
        "r = 3\n",
        "h = 5"
      ],
      "metadata": {
        "id": "AQWo6b6Chfgk"
      },
      "execution_count": 131,
      "outputs": []
    },
    {
      "cell_type": "code",
      "source": [
        "def print_results(lst, q):\n",
        "  stream = Stream(len(lst), lst)\n",
        "\n",
        "  print(f\"np.qunatile for q = {q}: {np.quantile(lst, 0.7)}\")\n",
        "  print(f\"mrl99 for q = {q}: {mrl99(stream, 0.7, b, k, r, h)[0]}\")"
      ],
      "metadata": {
        "id": "o20YGwuBilBG"
      },
      "execution_count": 132,
      "outputs": []
    },
    {
      "cell_type": "code",
      "source": [
        "lst = list(np.arange(1, 100000, 1))\n",
        "print_results(lst, 0.5)"
      ],
      "metadata": {
        "colab": {
          "base_uri": "https://localhost:8080/"
        },
        "id": "ufIRMop8jA7y",
        "outputId": "7d25e9aa-76a1-4685-b795-6ea5bf2202c0"
      },
      "execution_count": 133,
      "outputs": [
        {
          "output_type": "stream",
          "name": "stdout",
          "text": [
            "np.qunatile for q = 0.5: 69999.59999999999\n",
            "mrl99 for q = 0.5: 69855\n"
          ]
        }
      ]
    },
    {
      "cell_type": "code",
      "source": [
        "lst = np.random.randn(1000000)\n",
        "print_results(lst, 0.75)"
      ],
      "metadata": {
        "colab": {
          "base_uri": "https://localhost:8080/"
        },
        "id": "2SkVVFC0gTUU",
        "outputId": "1fb7ec98-29b9-4e35-fb15-7c287e6bddba"
      },
      "execution_count": 134,
      "outputs": [
        {
          "output_type": "stream",
          "name": "stdout",
          "text": [
            "np.qunatile for q = 0.75: 0.5254349765548503\n",
            "mrl99 for q = 0.75: 0.5136578361479709\n"
          ]
        }
      ]
    },
    {
      "cell_type": "markdown",
      "source": [
        "## Graph of time consumption"
      ],
      "metadata": {
        "id": "jnL1B2X8j0QJ"
      }
    },
    {
      "cell_type": "code",
      "source": [
        "ranges = [1000, 10000, 100000, 1000000, 10000000, 100000000]\n",
        "times = []\n",
        "for r in ranges:\n",
        "  stream = Stream(r)\n",
        "  start_time = time()\n",
        "  mrl99(stream, 0.5, b, k, r, h)\n",
        "  end_time = time()\n",
        "  times.append(end_time - start_time)"
      ],
      "metadata": {
        "id": "um7GUTxLjbnS"
      },
      "execution_count": 135,
      "outputs": []
    },
    {
      "cell_type": "code",
      "source": [
        "times"
      ],
      "metadata": {
        "colab": {
          "base_uri": "https://localhost:8080/"
        },
        "id": "8yHEavP3sv6g",
        "outputId": "e7f7c9bc-4000-4f76-aa15-c95849503f76"
      },
      "execution_count": 136,
      "outputs": [
        {
          "output_type": "execute_result",
          "data": {
            "text/plain": [
              "[0.0020139217376708984,\n",
              " 0.016669273376464844,\n",
              " 0.16153955459594727,\n",
              " 1.4993093013763428,\n",
              " 14.551344871520996,\n",
              " 158.58465266227722]"
            ]
          },
          "metadata": {},
          "execution_count": 136
        }
      ]
    },
    {
      "cell_type": "code",
      "source": [
        "x = np.arange(3, 9, 1)\n",
        "plt.plot(x, times)\n",
        "plt.title(\"Time Consumption\")\n",
        "plt.ylabel(\"Time, seconds\")\n",
        "plt.xlabel(\"Sequence Length, log_10\")\n",
        "plt.savefig('time_consumption.jpg')"
      ],
      "metadata": {
        "colab": {
          "base_uri": "https://localhost:8080/",
          "height": 296
        },
        "id": "01Q9wz1puI_W",
        "outputId": "2e6c65f0-35fe-4096-d53f-fb9567ba2e14"
      },
      "execution_count": 137,
      "outputs": [
        {
          "output_type": "display_data",
          "data": {
            "image/png": "[encoded data removed]",
            "text/plain": [
              "<Figure size 432x288 with 1 Axes>"
            ]
          },
          "metadata": {
            "needs_background": "light"
          }
        }
      ]
    },
    {
      "cell_type": "markdown",
      "source": [
        "# Graph of Space Consumption"
      ],
      "metadata": {
        "id": "RFyI93UZv0Ys"
      }
    },
    {
      "cell_type": "code",
      "source": [
        "errors = [0.1, 0.01, 0.001, 0.0001]\n",
        "memes = []\n",
        "for e in errors:\n",
        "  # values for params are taken from\n",
        "  # http://dimacs.rutgers.edu/~graham/pubs/papers/nquantiles.pdf\n",
        "  h = math.ceil(np.log(1 / e))\n",
        "  b = h + 1\n",
        "  k = math.ceil(1 / e * np.sqrt(h))\n",
        "  r = 2\n",
        "  stream = Stream(1000)\n",
        "  _, meme = mrl99(stream, 0.5, b, k, r, h, True)\n",
        "  memes.append(meme)\n",
        "memes.reverse()"
      ],
      "metadata": {
        "id": "agLJKCzQvNUw"
      },
      "execution_count": 138,
      "outputs": []
    },
    {
      "cell_type": "code",
      "source": [
        "x = np.arange(-4, 0, 1)\n",
        "plt.plot(x, memes, label = 'measured')\n",
        "\n",
        "big_oh = []\n",
        "for e in errors:\n",
        "  big_oh.append((1 / e) * (np.log(1 / e) ** 2))\n",
        "big_oh.reverse()\n",
        "plt.plot(x, big_oh, label = 'O(..)')\n",
        "\n",
        "plt.title(\"Space Consumption\")\n",
        "plt.ylabel(\"Memory, bytes\")\n",
        "plt.xlabel(\"Error, log_10\")\n",
        "plt.legend()\n",
        "plt.savefig('space_consumption.jpg')"
      ],
      "metadata": {
        "colab": {
          "base_uri": "https://localhost:8080/",
          "height": 296
        },
        "id": "nYSwvopt37tJ",
        "outputId": "f79180fa-e7e0-4732-98cd-256a66c1ed8b"
      },
      "execution_count": 139,
      "outputs": [
        {
          "output_type": "display_data",
          "data": {
            "image/png": "[encoded data removed]",
            "text/plain": [
              "<Figure size 432x288 with 1 Axes>"
            ]
          },
          "metadata": {
            "needs_background": "light"
          }
        }
      ]
    },
    {
      "cell_type": "code",
      "source": [
        ""
      ],
      "metadata": {
        "id": "hWEtThpr-u40"
      },
      "execution_count": 139,
      "outputs": []
    }
  ]
}